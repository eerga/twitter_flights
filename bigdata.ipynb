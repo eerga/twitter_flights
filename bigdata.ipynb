{
 "cells": [
  {
   "cell_type": "code",
   "execution_count": 173,
   "metadata": {},
   "outputs": [],
   "source": [
    "import pandas as pd"
   ]
  },
  {
   "cell_type": "code",
   "execution_count": 174,
   "metadata": {},
   "outputs": [],
   "source": [
    "file = pd.read_csv('results-20201212-023334.csv')"
   ]
  },
  {
   "cell_type": "code",
   "execution_count": 179,
   "metadata": {},
   "outputs": [],
   "source": [
    "df = pd.DataFrame() \n",
    "df1 = pd.DataFrame() "
   ]
  },
  {
   "cell_type": "code",
   "execution_count": 171,
   "metadata": {},
   "outputs": [],
   "source": [
    "import json\n",
    "\n",
    "created_at = []\n",
    "queries = []\n",
    "lang = []\n",
    "quotes_count = []\n",
    "reply_counts = []\n",
    "retweet_counts = []\n",
    "retweets = []\n",
    "tweets = []\n",
    "user_names = []\n",
    "screen_names = []\n",
    "locations = []\n",
    "followers_counts = []\n",
    "friends_counts = []\n",
    "favourites_counts = []\n",
    "statuses_counts = []\n",
    "followings = []\n",
    "\n",
    "for i in range(0, len(file.payloadString)):\n",
    "    payload = json.loads(file.payloadString[i]) \n",
    "    payload1 = payload['created_at']\n",
    "    created_at.append(payload1)\n",
    "    query = payload['query']\n",
    "    queries.append(query)\n",
    "    language = payload['lang']\n",
    "    lang.append(language)\n",
    "    quote_count = payload['quote_count']\n",
    "    quotes_count.append(quote_count)\n",
    "    reply_count = payload['reply_count']\n",
    "    reply_counts.append(reply_count)\n",
    "    retweet_count = payload['retweet_count']\n",
    "    retweet_counts.append(retweet_count)\n",
    "    retweeted = int(bool(payload['retweeted']))\n",
    "    #bool(distutils.util.strtobool(some_string))\n",
    "    retweets.append(retweeted)\n",
    "    text = json.loads(payload[\"text\"]) \n",
    "    tweet = text[\"text\"]\n",
    "    tweet = tweet.replace(\"https://\",\"\")\n",
    "    tweets.append(tweet)\n",
    "    user_name = text[\"user\"][\"screen_name\"]\n",
    "    user_names.append(user_name)\n",
    "    location = text[\"user\"][\"location\"]\n",
    "    locations.append(location)\n",
    "    followers_count = text[\"user\"][\"followers_count\"]\n",
    "    followers_counts.append(followers_count)\n",
    "    friends_count = text[\"user\"][\"friends_count\"]\n",
    "    friends_counts.append(friends_count)\n",
    "    favourites_count = text[\"user\"][\"favourites_count\"]\n",
    "    favourites_counts.append(favourites_count)\n",
    "    statuses_count = text[\"user\"][\"statuses_count\"]\n",
    "    statuses_counts.append(statuses_count)\n",
    "    following = text[\"user\"][\"following\"]\n",
    "    following = int(0 if following is None else following)\n",
    "    followings.append(following)"
   ]
  },
  {
   "cell_type": "code",
   "execution_count": 193,
   "metadata": {},
   "outputs": [],
   "source": [
    "df=pd.DataFrame({'created_at':created_at,'query':queries,'tweet':tweets,'language':lang, 'quote_count':quotes_count, 'reply_count': reply_counts, 'retweet_count':retweet_counts, 'retweet':retweets})"
   ]
  },
  {
   "cell_type": "code",
   "execution_count": 194,
   "metadata": {},
   "outputs": [],
   "source": [
    "df1=pd.DataFrame({'created_at':created_at,'query':queries,'tweet':tweets,'language':lang, 'user_name':user_names, 'location': locations, 'followers_count':followers_counts, 'friends_count':friends_counts,'favourites_count':favourites_counts,'status_count':statuses_counts,'following':followings})"
   ]
  },
  {
   "cell_type": "code",
   "execution_count": 197,
   "metadata": {},
   "outputs": [],
   "source": [
    "df.to_csv(\"tweets.csv\", encoding='utf-8', index=False)"
   ]
  },
  {
   "cell_type": "code",
   "execution_count": 198,
   "metadata": {},
   "outputs": [],
   "source": [
    "df1.to_csv(\"users.csv\", encoding='utf-8', index=False)"
   ]
  },
  {
   "cell_type": "code",
   "execution_count": 199,
   "metadata": {},
   "outputs": [],
   "source": [
    "import pandas as pd"
   ]
  },
  {
   "cell_type": "code",
   "execution_count": 200,
   "metadata": {},
   "outputs": [],
   "source": [
    "file = pd.read_csv('results-20201212-131536.csv')"
   ]
  },
  {
   "cell_type": "code",
   "execution_count": 201,
   "metadata": {},
   "outputs": [],
   "source": [
    "df2 = pd.DataFrame() \n",
    "df3 = pd.DataFrame() "
   ]
  },
  {
   "cell_type": "code",
   "execution_count": 202,
   "metadata": {},
   "outputs": [],
   "source": [
    "import json\n",
    "\n",
    "created_at = []\n",
    "queries = []\n",
    "lang = []\n",
    "quotes_count = []\n",
    "reply_counts = []\n",
    "retweet_counts = []\n",
    "retweets = []\n",
    "tweets = []\n",
    "user_names = []\n",
    "screen_names = []\n",
    "locations = []\n",
    "followers_counts = []\n",
    "friends_counts = []\n",
    "favourites_counts = []\n",
    "statuses_counts = []\n",
    "followings = []\n",
    "\n",
    "for i in range(0, len(file.payloadString)):\n",
    "    payload = json.loads(file.payloadString[i]) \n",
    "    payload1 = payload['created_at']\n",
    "    created_at.append(payload1)\n",
    "    query = payload['query']\n",
    "    queries.append(query)\n",
    "    language = payload['lang']\n",
    "    lang.append(language)\n",
    "    quote_count = payload['quote_count']\n",
    "    quotes_count.append(quote_count)\n",
    "    reply_count = payload['reply_count']\n",
    "    reply_counts.append(reply_count)\n",
    "    retweet_count = payload['retweet_count']\n",
    "    retweet_counts.append(retweet_count)\n",
    "    retweeted = int(bool(payload['retweeted']))\n",
    "    #bool(distutils.util.strtobool(some_string))\n",
    "    retweets.append(retweeted)\n",
    "    text = json.loads(payload[\"text\"]) \n",
    "    tweet = text[\"text\"]\n",
    "    tweet = tweet.replace(\"https://\",\"\")\n",
    "    tweets.append(tweet)\n",
    "    user_name = text[\"user\"][\"screen_name\"]\n",
    "    user_names.append(user_name)\n",
    "    location = text[\"user\"][\"location\"]\n",
    "    locations.append(location)\n",
    "    followers_count = text[\"user\"][\"followers_count\"]\n",
    "    followers_counts.append(followers_count)\n",
    "    friends_count = text[\"user\"][\"friends_count\"]\n",
    "    friends_counts.append(friends_count)\n",
    "    favourites_count = text[\"user\"][\"favourites_count\"]\n",
    "    favourites_counts.append(favourites_count)\n",
    "    statuses_count = text[\"user\"][\"statuses_count\"]\n",
    "    statuses_counts.append(statuses_count)\n",
    "    following = text[\"user\"][\"following\"]\n",
    "    following = int(0 if following is None else following)\n",
    "    followings.append(following)"
   ]
  },
  {
   "cell_type": "code",
   "execution_count": 207,
   "metadata": {},
   "outputs": [],
   "source": [
    "df2=pd.DataFrame({'created_at':created_at,'query':queries,'tweet':tweets,'language':lang, 'quote_count':quotes_count, 'reply_count': reply_counts, 'retweet_count':retweet_counts, 'retweet':retweets})"
   ]
  },
  {
   "cell_type": "code",
   "execution_count": 208,
   "metadata": {},
   "outputs": [],
   "source": [
    "df3=pd.DataFrame({'created_at':created_at,'query':queries,'tweet':tweets,'language':lang, 'user_name':user_names, 'location': locations, 'followers_count':followers_counts, 'friends_count':friends_counts,'favourites_count':favourites_counts,'status_count':statuses_counts,'following':followings})"
   ]
  },
  {
   "cell_type": "code",
   "execution_count": 209,
   "metadata": {},
   "outputs": [],
   "source": [
    "df2.to_csv(\"tweets1.csv\", encoding='utf-8', index=False)"
   ]
  },
  {
   "cell_type": "code",
   "execution_count": 210,
   "metadata": {},
   "outputs": [],
   "source": [
    "df3.to_csv(\"users1.csv\", encoding='utf-8', index=False)"
   ]
  },
  {
   "cell_type": "code",
   "execution_count": null,
   "metadata": {},
   "outputs": [],
   "source": []
  }
 ],
 "metadata": {
  "kernelspec": {
   "display_name": "Python 3",
   "language": "python",
   "name": "python3"
  },
  "language_info": {
   "codemirror_mode": {
    "name": "ipython",
    "version": 3
   },
   "file_extension": ".py",
   "mimetype": "text/x-python",
   "name": "python",
   "nbconvert_exporter": "python",
   "pygments_lexer": "ipython3",
   "version": "3.8.1"
  }
 },
 "nbformat": 4,
 "nbformat_minor": 4
}
